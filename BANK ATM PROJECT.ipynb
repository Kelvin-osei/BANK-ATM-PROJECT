{
 "cells": [
  {
   "cell_type": "markdown",
   "id": "4224af0c",
   "metadata": {},
   "source": [
    "#  BANK ATM PROJECT"
   ]
  },
  {
   "cell_type": "markdown",
   "id": "1a5345ff",
   "metadata": {},
   "source": [
    "- Design a program to mimic the operation of using an ATM of a bank. This program should perform the following operation:\n",
    "\n",
    "- Display the menu (\"Check Balance\" , \"Deposit\", \"Withdraw\", \"EXIT\")\n",
    "- Validate the customer pin. If the customer pin is correct, then it should display \"Welcome! and display the menu, otherwise it can allow customer to try for a maximum of 3 times after which the customer card would be blocked.\n",
    "- Check the current balance of the customer (You can assume customer has zero balance at first)\n",
    "- Deposit money to your account.  Display the message \"Successful deposit!\" and show current balance\n",
    "- Withdraw money from the account and display balance amount. Display the message \"Successful withdrawal!\" if amount to withdraw is possible otherwise \"Insufficient balance!\".\n",
    "- The program should exit when customer presses the EXIT button\n",
    " \n",
    "\n",
    "- HINT: Use a Python class"
   ]
  },
  {
   "cell_type": "code",
   "execution_count": 3,
   "id": "6f36540b",
   "metadata": {},
   "outputs": [
    {
     "name": "stdout",
     "output_type": "stream",
     "text": [
      "Enter your PIN: 6766\n",
      "Welcome!\n",
      "ATM Menu:\n",
      "1. Check Balance\n",
      "2. Deposit\n",
      "3. Withdraw\n",
      "4. EXIT\n",
      "Enter option (1-4): 4\n",
      "Exiting. Thank you!\n"
     ]
    }
   ],
   "source": [
    "class ATM:\n",
    "    def __init__(self, pin, max_attempts=3):\n",
    "        self.pin = pin\n",
    "        self.max_attempts = max_attempts\n",
    "        self.balance = 0\n",
    "        self.attempts_left = max_attempts\n",
    "\n",
    "    def display_menu(self):\n",
    "        print(\"ATM Menu:\")\n",
    "        print(\"1. Check Balance\")\n",
    "        print(\"2. Deposit\")\n",
    "        print(\"3. Withdraw\")\n",
    "        print(\"4. EXIT\")\n",
    "\n",
    "    def validate_pin(self, entered_pin):\n",
    "        if entered_pin == self.pin:\n",
    "            print(\"Welcome!\")\n",
    "            return True\n",
    "        else:\n",
    "            self.attempts_left -= 1\n",
    "            if self.attempts_left > 0:\n",
    "                print(f\"Incorrect PIN. {self.attempts_left} attempts left.\")\n",
    "            else:\n",
    "                print(\"Card blocked. Too many incorrect attempts.\")\n",
    "                return False\n",
    "\n",
    "    def check_balance(self):\n",
    "        print(f\"Current Balance: ${self.balance}\")\n",
    "\n",
    "    def deposit(self, amount):\n",
    "        self.balance += amount\n",
    "        print(\"Successful deposit!\")\n",
    "        self.check_balance()\n",
    "\n",
    "    def withdraw(self, amount):\n",
    "        if amount <= self.balance:\n",
    "            self.balance -= amount\n",
    "            print(\"Successful withdrawal!\")\n",
    "        else:\n",
    "            print(\"Insufficient balance!\")\n",
    "        self.check_balance()\n",
    "\n",
    "    def run(self):\n",
    "        while True:\n",
    "            self.display_menu()\n",
    "            option = input(\"Enter option (1-4): \")\n",
    "\n",
    "            if option == \"1\":\n",
    "                self.check_balance()\n",
    "            elif option == \"2\":\n",
    "                amount = float(input(\"Enter deposit amount: $\"))\n",
    "                self.deposit(amount)\n",
    "            elif option == \"3\":\n",
    "                amount = float(input(\"Enter withdrawal amount: $\"))\n",
    "                self.withdraw(amount)\n",
    "            elif option == \"4\":\n",
    "                print(\"Exiting. Thank you!\")\n",
    "                break\n",
    "            else:\n",
    "                print(\"Invalid option. Please enter a number between 1 and 4.\")\n",
    "\n",
    "\n",
    "\n",
    "customer_pin = \"6766\"  # The actual customer PIN\n",
    "atm = ATM(customer_pin)\n",
    "entered_pin = input(\"Enter your PIN: \")\n",
    "\n",
    "if atm.validate_pin(entered_pin):\n",
    "    atm.run()\n"
   ]
  }
 ],
 "metadata": {
  "kernelspec": {
   "display_name": "Python 3 (ipykernel)",
   "language": "python",
   "name": "python3"
  },
  "language_info": {
   "codemirror_mode": {
    "name": "ipython",
    "version": 3
   },
   "file_extension": ".py",
   "mimetype": "text/x-python",
   "name": "python",
   "nbconvert_exporter": "python",
   "pygments_lexer": "ipython3",
   "version": "3.10.8"
  }
 },
 "nbformat": 4,
 "nbformat_minor": 5
}
